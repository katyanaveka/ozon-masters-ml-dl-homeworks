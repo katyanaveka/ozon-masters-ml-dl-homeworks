{
 "cells": [
  {
   "cell_type": "markdown",
   "id": "fa79656c",
   "metadata": {},
   "source": [
    "# Большое практическое задание 2"
   ]
  },
  {
   "cell_type": "markdown",
   "id": "6665bbd1",
   "metadata": {},
   "source": [
    "# Применение линейных моделей для определения токсичности комментария"
   ]
  },
  {
   "cell_type": "markdown",
   "id": "342e9e5e",
   "metadata": {},
   "source": [
    "## курс \"Машинное обучение 1\", программа OzonMasters, 2021"
   ]
  },
  {
   "cell_type": "markdown",
   "id": "e04358fa",
   "metadata": {},
   "source": [
    "## Студент: Солоднёва Екатерина Алексеевна"
   ]
  },
  {
   "cell_type": "markdown",
   "id": "01a700e7",
   "metadata": {},
   "source": [
    "## Формулировка задания\n",
    "Данное задание направлено на ознакомление с линейными моделями и градиентными методами обучения. В\n",
    "задании необходимо: <br>\n",
    "1. Написать на языке Python собственную реализацию линейного классификатора с произвольной функцией потерь и реализацию функции и градиента функции потерь для логистической регрессии. Реализации можно частично проверить через юнит-тесты и с помощью системы ejudge в соответствующем соревновании. <br><br> **Внимание.** Прохождение всех тестов в соревновании не гарантирует правильность решения. \n",
    "\n",
    "\n",
    "2. Вывести все необходимые формулы, привести выкладки в отчёте. \n",
    "\n",
    "\n",
    "3. Провести описанные ниже эксперименты с модельными данными и приложенным датасетом в данном ноутбуке. Подготовить отчёт о проделанной работе. Удалите черновые выводы, оставьте только тот код, который является ответом к пунктам задания. Сохраните ноутбук в форматах .ipynb и .html одновременно. <br><br> **Замечание.** Чтобы экспорировать jupyter notebook в .html нужно выбрать: `File -> Download as -> HTML (.html)`. Для экспорта notebook в .html в Google Colab, воспользуйтесь [следующим кодом](https://gist.github.com/vbugaevskii/b9c6181f2ad83e11f5b9c92d315cb2de). Большая просьба: подписывайте свой отчет (в названии файла и внутри ноутбука).\n",
    "\n",
    "\n",
    "4. В систему проверки необходимо сдать отчёт в обоих форматах и .zip архив с написанными модулями. <br><br> Большая просьба: jupyter notebook и html файл не запаковывать в архив, а сдавать отдельно.\n"
   ]
  },
  {
   "cell_type": "markdown",
   "id": "fb25a8fe",
   "metadata": {},
   "source": [
    "### Некоторые полезные советы\n",
    "1. Для того, чтобы не перезагружать jupyter notebook каждый раз после того, как вы внесли изменения в модуль knn, можно добавить ячейку с таким содержимым:\n",
    "```python\n",
    "%load_ext autoreload\n",
    "%autoreload 2\n",
    "```\n",
    "\n",
    "\n",
    "2. Не нужно копировать свой код из модулей в jupyter notebook, пользуйтесь им, как если бы это была библиотека. Для этого поместите директорию `modules` рядом с notebook-ом. Пример, как может выглядеть содержимое вашей рабочей директории:\n",
    "```text\n",
    "tree\n",
    "    ---modules\n",
    "    ------__init__.py\n",
    "    ------linear_model.py\n",
    "    ------losses.py\n",
    "    ------utils.py\n",
    "    ------tests.py\n",
    "    ------tests_bouns.py\n",
    "    HW2_*.ipynb\n",
    "```"
   ]
  },
  {
   "cell_type": "markdown",
   "id": "be8addaf",
   "metadata": {},
   "source": [
    "## Теоретическая часть (1 балл)\n",
    "Выведите формулу градиента функции потерь (по параметру $w$) для задачи бинарной логистической регрессии.\n",
    "\n",
    "$$L(a(x), y) = \\log(1 + \\exp(-y\\langle w, x\\rangle)), \\quad y \\in \\{-1, 1\\}$$\n",
    "\n",
    "Запишите вывод градиента ниже.\n",
    "\n",
    "Место для ~~вашей рекламы~~ ответа\n"
   ]
  },
  {
   "cell_type": "markdown",
   "id": "02f6f532",
   "metadata": {},
   "source": [
    "$$L(a(x), y)_w' = \\frac{1}{1 + \\exp(-y\\langle w, x\\rangle)}\\exp(-y\\langle w, x\\rangle)(-y)x=\\frac{-yx}{1 + \\exp(y\\langle w, x\\rangle)}$$\n",
    "~~© Солоднёва Екатерина~~"
   ]
  },
  {
   "cell_type": "markdown",
   "id": "50e72d24",
   "metadata": {},
   "source": [
    "## Реализация алгоритмов (9 баллов)\n",
    "Прототипы функций должны строго соответствовать прототипам, описанным в спецификации и проходить все\n",
    "тесты. Задание, не проходящее все тесты, приравнивается к невыполненному. \n",
    "\n",
    "\n",
    "При написании необходимо пользоваться стандартными средствами языка Python, библиотеками `numpy, scipy и matplotlib`. Библиотекой `scikit-learn` для реализаций пользоваться запрещается, но разрешается использовать её в процессе экспериментов. Все\n",
    "подробности реализации алгоритмов подробно описаны в [спецификации](https://drive.google.com/file/d/1cby1SXsS0TkeFd-3AkE2j1JhKYU9Er1N/view) к заданию.\n",
    "\n",
    "\n",
    "Ожидается, что реализациия всех классов и функций будет максимально эффективной. Дополнительно вам предоставлены открытые тесты, которые находятся в модуле `modules`. Чтобы запустить тесты в консоли требуется выполнить команду:\n",
    "```c\n",
    "$ pytest ./modules/tests.py\n",
    "\n",
    "```\n",
    "\n",
    "Разрешается дополнять файл тестами для самопроверки. Доп баллы за написание своих тестов не будет :)\n"
   ]
  },
  {
   "cell_type": "markdown",
   "id": "1ca8a6e6",
   "metadata": {},
   "source": [
    "## Предобработка данных (2 балла)\n",
    "Импортируйте все, что вам потребуется для экспериментов:"
   ]
  },
  {
   "cell_type": "code",
   "execution_count": 191,
   "id": "8a2dc27d",
   "metadata": {},
   "outputs": [],
   "source": [
    "import numpy as np\n",
    "import pandas as pd\n",
    "import scipy\n",
    "import matplotlib.pyplot as plt\n",
    "from matplotlib.pyplot import figure\n",
    "import time\n",
    "plt.rcParams[\"figure.figsize\"] = (20,20)\n",
    "from tabulate import tabulate\n",
    "\n",
    "from nltk.stem import WordNetLemmatizer\n",
    "from nltk.stem import PorterStemmer\n",
    "from nltk.tokenize import sent_tokenize, word_tokenize\n",
    "from tqdm import tqdm\n",
    "from modules.linear_model import LinearModel\n",
    "from modules.losses import BinaryLogisticLoss, MultinomialLoss\n",
    "from modules.utils import get_numeric_grad, compute_balanced_accuracy\n",
    "from sklearn.model_selection import train_test_split\n",
    "from scipy.sparse import hstack, csr_matrix\n",
    "from sklearn.feature_extraction.text import TfidfVectorizer"
   ]
  },
  {
   "cell_type": "code",
   "execution_count": 49,
   "id": "562f545b",
   "metadata": {},
   "outputs": [
    {
     "name": "stdout",
     "output_type": "stream",
     "text": [
      "The autoreload extension is already loaded. To reload it, use:\n",
      "  %reload_ext autoreload\n"
     ]
    }
   ],
   "source": [
    "%load_ext autoreload\n",
    "%autoreload 2"
   ]
  },
  {
   "cell_type": "code",
   "execution_count": 42,
   "id": "7ce67992",
   "metadata": {},
   "outputs": [
    {
     "name": "stderr",
     "output_type": "stream",
     "text": [
      "[nltk_data] Downloading package wordnet to\n",
      "[nltk_data]     C:\\Users\\Екатерина\\AppData\\Roaming\\nltk_data...\n",
      "[nltk_data]   Package wordnet is already up-to-date!\n",
      "[nltk_data] Downloading package punkt to\n",
      "[nltk_data]     C:\\Users\\Екатерина\\AppData\\Roaming\\nltk_data...\n",
      "[nltk_data]   Package punkt is already up-to-date!\n"
     ]
    },
    {
     "data": {
      "text/plain": [
       "True"
      ]
     },
     "execution_count": 42,
     "metadata": {},
     "output_type": "execute_result"
    }
   ],
   "source": [
    "import nltk\n",
    "stop_list = nltk.corpus.stopwords.words('english')\n",
    "#stop_list = stopwords.words('english')\n",
    "\n",
    "nltk.download('wordnet')\n",
    "nltk.download('punkt')"
   ]
  },
  {
   "cell_type": "markdown",
   "id": "a6fdba49",
   "metadata": {},
   "source": [
    "### 1. Загрузка даннных\n",
    "Эксперименты этого задания необходимо проводить на датасете, содержащим комментарии из раздела обсуждений английской Википедии, который был преобразован для решения задачи бинарной классификации: является ли данный комментарий токсичным или нет. Подробнее об исходных данных [здесь](https://www.kaggle.com/c/jigsaw-toxic-comment-classification-challenge). Требуемый для выполнения данного задания датасет можно найти по следующей [ссылке](https://drive.google.com/file/d/1FLTAFR29Koi4YDkLUdVQWNabnBQCTFbn/view). \n",
    "\n",
    "\n",
    "Данные в датасете записаны в формате `csv`. Для базовой части экспериментов используйте в качестве целевой переменной столбец `is_toxic`. Обратите внимание на метки классов в датасете, замените их на те, которые ожидает увидеть на вход ваша реализация `LinearModel`."
   ]
  },
  {
   "cell_type": "code",
   "execution_count": 128,
   "id": "d14aa60e",
   "metadata": {},
   "outputs": [
    {
     "data": {
      "text/html": [
       "<div>\n",
       "<style scoped>\n",
       "    .dataframe tbody tr th:only-of-type {\n",
       "        vertical-align: middle;\n",
       "    }\n",
       "\n",
       "    .dataframe tbody tr th {\n",
       "        vertical-align: top;\n",
       "    }\n",
       "\n",
       "    .dataframe thead th {\n",
       "        text-align: right;\n",
       "    }\n",
       "</style>\n",
       "<table border=\"1\" class=\"dataframe\">\n",
       "  <thead>\n",
       "    <tr style=\"text-align: right;\">\n",
       "      <th></th>\n",
       "      <th>comment_text</th>\n",
       "      <th>is_toxic</th>\n",
       "      <th>toxic_level</th>\n",
       "      <th>insult</th>\n",
       "      <th>obscene</th>\n",
       "      <th>obscene_and_insult</th>\n",
       "      <th>no_obscene_no_insult</th>\n",
       "    </tr>\n",
       "  </thead>\n",
       "  <tbody>\n",
       "    <tr>\n",
       "      <th>0</th>\n",
       "      <td>Explanation\\nWhy the edits made under my usern...</td>\n",
       "      <td>0</td>\n",
       "      <td>0</td>\n",
       "      <td>0</td>\n",
       "      <td>0</td>\n",
       "      <td>0</td>\n",
       "      <td>0</td>\n",
       "    </tr>\n",
       "    <tr>\n",
       "      <th>1</th>\n",
       "      <td>D'aww! He matches this background colour I'm s...</td>\n",
       "      <td>0</td>\n",
       "      <td>0</td>\n",
       "      <td>0</td>\n",
       "      <td>0</td>\n",
       "      <td>0</td>\n",
       "      <td>0</td>\n",
       "    </tr>\n",
       "    <tr>\n",
       "      <th>2</th>\n",
       "      <td>Hey man, I'm really not trying to edit war. It...</td>\n",
       "      <td>0</td>\n",
       "      <td>0</td>\n",
       "      <td>0</td>\n",
       "      <td>0</td>\n",
       "      <td>0</td>\n",
       "      <td>0</td>\n",
       "    </tr>\n",
       "    <tr>\n",
       "      <th>3</th>\n",
       "      <td>\"\\nMore\\nI can't make any real suggestions on ...</td>\n",
       "      <td>0</td>\n",
       "      <td>0</td>\n",
       "      <td>0</td>\n",
       "      <td>0</td>\n",
       "      <td>0</td>\n",
       "      <td>0</td>\n",
       "    </tr>\n",
       "    <tr>\n",
       "      <th>4</th>\n",
       "      <td>You, sir, are my hero. Any chance you remember...</td>\n",
       "      <td>0</td>\n",
       "      <td>0</td>\n",
       "      <td>0</td>\n",
       "      <td>0</td>\n",
       "      <td>0</td>\n",
       "      <td>0</td>\n",
       "    </tr>\n",
       "  </tbody>\n",
       "</table>\n",
       "</div>"
      ],
      "text/plain": [
       "                                        comment_text  is_toxic  toxic_level  \\\n",
       "0  Explanation\\nWhy the edits made under my usern...         0            0   \n",
       "1  D'aww! He matches this background colour I'm s...         0            0   \n",
       "2  Hey man, I'm really not trying to edit war. It...         0            0   \n",
       "3  \"\\nMore\\nI can't make any real suggestions on ...         0            0   \n",
       "4  You, sir, are my hero. Any chance you remember...         0            0   \n",
       "\n",
       "   insult  obscene  obscene_and_insult  no_obscene_no_insult  \n",
       "0       0        0                   0                     0  \n",
       "1       0        0                   0                     0  \n",
       "2       0        0                   0                     0  \n",
       "3       0        0                   0                     0  \n",
       "4       0        0                   0                     0  "
      ]
     },
     "execution_count": 128,
     "metadata": {},
     "output_type": "execute_result"
    }
   ],
   "source": [
    "data = pd.read_csv('train.csv')\n",
    "data.head()"
   ]
  },
  {
   "cell_type": "markdown",
   "id": "68e588b5",
   "metadata": {},
   "source": [
    "### 2. Предобработка текста\n",
    "Произведите предварительную обработку текста. Приведите все тексты к нижнему регистру. Замените в тексте все символы, не являющиеся буквами и цифрами, на пробелы. Примените алгоритм лемматизации (например, `WordNetLemmatizer` из библотеки `nltk`) к коллекции. Удалите из текста стоп-слова (например, используя список стоп-слов из `nltk`).\n",
    "\n",
    "**Замечание.** Полезные функции: `str.lower, str.split, str.isalnum, re.sub, re.split`."
   ]
  },
  {
   "cell_type": "code",
   "execution_count": 43,
   "id": "49d65bea",
   "metadata": {},
   "outputs": [],
   "source": [
    "data = data.replace('\\n',' ', regex=True)\n",
    "data = data.replace('[^a-zA-Z0-9]', ' ', regex=True)\n",
    "data = data.replace(r'http\\S+', '', regex=True).replace(r'www\\S+', '', regex=True)"
   ]
  },
  {
   "cell_type": "code",
   "execution_count": 130,
   "id": "749a02d0",
   "metadata": {},
   "outputs": [],
   "source": [
    "data['comment_text'] = data['comment_text'].str.lower()"
   ]
  },
  {
   "cell_type": "code",
   "execution_count": 131,
   "id": "d69186e8",
   "metadata": {},
   "outputs": [
    {
     "data": {
      "text/html": [
       "<div>\n",
       "<style scoped>\n",
       "    .dataframe tbody tr th:only-of-type {\n",
       "        vertical-align: middle;\n",
       "    }\n",
       "\n",
       "    .dataframe tbody tr th {\n",
       "        vertical-align: top;\n",
       "    }\n",
       "\n",
       "    .dataframe thead th {\n",
       "        text-align: right;\n",
       "    }\n",
       "</style>\n",
       "<table border=\"1\" class=\"dataframe\">\n",
       "  <thead>\n",
       "    <tr style=\"text-align: right;\">\n",
       "      <th></th>\n",
       "      <th>comment_text</th>\n",
       "      <th>is_toxic</th>\n",
       "      <th>toxic_level</th>\n",
       "      <th>insult</th>\n",
       "      <th>obscene</th>\n",
       "      <th>obscene_and_insult</th>\n",
       "      <th>no_obscene_no_insult</th>\n",
       "    </tr>\n",
       "  </thead>\n",
       "  <tbody>\n",
       "    <tr>\n",
       "      <th>0</th>\n",
       "      <td>explanation why the edits made under my userna...</td>\n",
       "      <td>0</td>\n",
       "      <td>0</td>\n",
       "      <td>0</td>\n",
       "      <td>0</td>\n",
       "      <td>0</td>\n",
       "      <td>0</td>\n",
       "    </tr>\n",
       "    <tr>\n",
       "      <th>1</th>\n",
       "      <td>d aww  he matches this background colour i m s...</td>\n",
       "      <td>0</td>\n",
       "      <td>0</td>\n",
       "      <td>0</td>\n",
       "      <td>0</td>\n",
       "      <td>0</td>\n",
       "      <td>0</td>\n",
       "    </tr>\n",
       "    <tr>\n",
       "      <th>2</th>\n",
       "      <td>hey man  i m really not trying to edit war  it...</td>\n",
       "      <td>0</td>\n",
       "      <td>0</td>\n",
       "      <td>0</td>\n",
       "      <td>0</td>\n",
       "      <td>0</td>\n",
       "      <td>0</td>\n",
       "    </tr>\n",
       "    <tr>\n",
       "      <th>3</th>\n",
       "      <td>more i can t make any real suggestions on im...</td>\n",
       "      <td>0</td>\n",
       "      <td>0</td>\n",
       "      <td>0</td>\n",
       "      <td>0</td>\n",
       "      <td>0</td>\n",
       "      <td>0</td>\n",
       "    </tr>\n",
       "    <tr>\n",
       "      <th>4</th>\n",
       "      <td>you  sir  are my hero  any chance you remember...</td>\n",
       "      <td>0</td>\n",
       "      <td>0</td>\n",
       "      <td>0</td>\n",
       "      <td>0</td>\n",
       "      <td>0</td>\n",
       "      <td>0</td>\n",
       "    </tr>\n",
       "  </tbody>\n",
       "</table>\n",
       "</div>"
      ],
      "text/plain": [
       "                                        comment_text  is_toxic  toxic_level  \\\n",
       "0  explanation why the edits made under my userna...         0            0   \n",
       "1  d aww  he matches this background colour i m s...         0            0   \n",
       "2  hey man  i m really not trying to edit war  it...         0            0   \n",
       "3    more i can t make any real suggestions on im...         0            0   \n",
       "4  you  sir  are my hero  any chance you remember...         0            0   \n",
       "\n",
       "   insult  obscene  obscene_and_insult  no_obscene_no_insult  \n",
       "0       0        0                   0                     0  \n",
       "1       0        0                   0                     0  \n",
       "2       0        0                   0                     0  \n",
       "3       0        0                   0                     0  \n",
       "4       0        0                   0                     0  "
      ]
     },
     "execution_count": 131,
     "metadata": {},
     "output_type": "execute_result"
    }
   ],
   "source": [
    "data.head()"
   ]
  },
  {
   "cell_type": "code",
   "execution_count": 135,
   "id": "04dd475a",
   "metadata": {},
   "outputs": [
    {
     "data": {
      "text/plain": [
       "comment_text            0\n",
       "is_toxic                0\n",
       "toxic_level             0\n",
       "insult                  0\n",
       "obscene                 0\n",
       "obscene_and_insult      0\n",
       "no_obscene_no_insult    0\n",
       "dtype: int64"
      ]
     },
     "execution_count": 135,
     "metadata": {},
     "output_type": "execute_result"
    }
   ],
   "source": [
    "data.isnull().sum()"
   ]
  },
  {
   "cell_type": "code",
   "execution_count": 136,
   "id": "edba9a96",
   "metadata": {},
   "outputs": [],
   "source": [
    "lemmatizer = WordNetLemmatizer()\n",
    "\n",
    "def lemmat(comment):\n",
    "    word_list = word_tokenize(comment)\n",
    "    filtered_sentence = [lemmatizer.lemmatize(w) for w in word_list if not w.lower() in stop_list]\n",
    "    filtered_sentence = []\n",
    "    for w in word_list:\n",
    "        if w not in stop_list:\n",
    "            filtered_sentence.append(w)\n",
    "    return filtered_sentence"
   ]
  },
  {
   "cell_type": "code",
   "execution_count": 134,
   "id": "423a40fe",
   "metadata": {},
   "outputs": [
    {
     "name": "stderr",
     "output_type": "stream",
     "text": [
      "  0%|                                                                                       | 0/159571 [00:00<?, ?it/s]c:\\users\\екатерина\\appdata\\local\\programs\\python\\python37\\lib\\site-packages\\ipykernel_launcher.py:2: SettingWithCopyWarning: \n",
      "A value is trying to be set on a copy of a slice from a DataFrame\n",
      "\n",
      "See the caveats in the documentation: https://pandas.pydata.org/pandas-docs/stable/user_guide/indexing.html#returning-a-view-versus-a-copy\n",
      "  \n",
      "100%|█████████████████████████████████████████████████████████████████████████| 159571/159571 [13:31<00:00, 196.62it/s]\n"
     ]
    }
   ],
   "source": [
    "for i in tqdm(range(len(data))):\n",
    "    data['comment_text'][i] = lemmat(data[\"comment_text\"][i])"
   ]
  },
  {
   "cell_type": "code",
   "execution_count": 138,
   "id": "fec37e74",
   "metadata": {},
   "outputs": [],
   "source": [
    "data.to_csv('train_sample.csv')"
   ]
  },
  {
   "cell_type": "code",
   "execution_count": 216,
   "id": "04671c05",
   "metadata": {},
   "outputs": [
    {
     "data": {
      "text/html": [
       "<div>\n",
       "<style scoped>\n",
       "    .dataframe tbody tr th:only-of-type {\n",
       "        vertical-align: middle;\n",
       "    }\n",
       "\n",
       "    .dataframe tbody tr th {\n",
       "        vertical-align: top;\n",
       "    }\n",
       "\n",
       "    .dataframe thead th {\n",
       "        text-align: right;\n",
       "    }\n",
       "</style>\n",
       "<table border=\"1\" class=\"dataframe\">\n",
       "  <thead>\n",
       "    <tr style=\"text-align: right;\">\n",
       "      <th></th>\n",
       "      <th>Unnamed: 0</th>\n",
       "      <th>comment_text</th>\n",
       "      <th>is_toxic</th>\n",
       "      <th>toxic_level</th>\n",
       "      <th>insult</th>\n",
       "      <th>obscene</th>\n",
       "      <th>obscene_and_insult</th>\n",
       "      <th>no_obscene_no_insult</th>\n",
       "    </tr>\n",
       "  </thead>\n",
       "  <tbody>\n",
       "    <tr>\n",
       "      <th>0</th>\n",
       "      <td>0</td>\n",
       "      <td>['explanation', 'edits', 'made', 'username', '...</td>\n",
       "      <td>0</td>\n",
       "      <td>0</td>\n",
       "      <td>0</td>\n",
       "      <td>0</td>\n",
       "      <td>0</td>\n",
       "      <td>0</td>\n",
       "    </tr>\n",
       "    <tr>\n",
       "      <th>1</th>\n",
       "      <td>1</td>\n",
       "      <td>['aww', 'matches', 'background', 'colour', 'se...</td>\n",
       "      <td>0</td>\n",
       "      <td>0</td>\n",
       "      <td>0</td>\n",
       "      <td>0</td>\n",
       "      <td>0</td>\n",
       "      <td>0</td>\n",
       "    </tr>\n",
       "    <tr>\n",
       "      <th>2</th>\n",
       "      <td>2</td>\n",
       "      <td>['hey', 'man', 'really', 'trying', 'edit', 'wa...</td>\n",
       "      <td>0</td>\n",
       "      <td>0</td>\n",
       "      <td>0</td>\n",
       "      <td>0</td>\n",
       "      <td>0</td>\n",
       "      <td>0</td>\n",
       "    </tr>\n",
       "    <tr>\n",
       "      <th>3</th>\n",
       "      <td>3</td>\n",
       "      <td>['make', 'real', 'suggestions', 'improvement',...</td>\n",
       "      <td>0</td>\n",
       "      <td>0</td>\n",
       "      <td>0</td>\n",
       "      <td>0</td>\n",
       "      <td>0</td>\n",
       "      <td>0</td>\n",
       "    </tr>\n",
       "    <tr>\n",
       "      <th>4</th>\n",
       "      <td>4</td>\n",
       "      <td>['sir', 'hero', 'chance', 'remember', 'page']</td>\n",
       "      <td>0</td>\n",
       "      <td>0</td>\n",
       "      <td>0</td>\n",
       "      <td>0</td>\n",
       "      <td>0</td>\n",
       "      <td>0</td>\n",
       "    </tr>\n",
       "  </tbody>\n",
       "</table>\n",
       "</div>"
      ],
      "text/plain": [
       "   Unnamed: 0                                       comment_text  is_toxic  \\\n",
       "0           0  ['explanation', 'edits', 'made', 'username', '...         0   \n",
       "1           1  ['aww', 'matches', 'background', 'colour', 'se...         0   \n",
       "2           2  ['hey', 'man', 'really', 'trying', 'edit', 'wa...         0   \n",
       "3           3  ['make', 'real', 'suggestions', 'improvement',...         0   \n",
       "4           4      ['sir', 'hero', 'chance', 'remember', 'page']         0   \n",
       "\n",
       "   toxic_level  insult  obscene  obscene_and_insult  no_obscene_no_insult  \n",
       "0            0       0        0                   0                     0  \n",
       "1            0       0        0                   0                     0  \n",
       "2            0       0        0                   0                     0  \n",
       "3            0       0        0                   0                     0  \n",
       "4            0       0        0                   0                     0  "
      ]
     },
     "execution_count": 216,
     "metadata": {},
     "output_type": "execute_result"
    }
   ],
   "source": [
    "data = pd.read_csv('train_sample.csv')\n",
    "data.head()"
   ]
  },
  {
   "cell_type": "markdown",
   "id": "f2b132af",
   "metadata": {},
   "source": [
    "### 3. Train/val\n",
    "Разделите данные на обучение и валидацию. Для валидации выберете $30\\%$ случайных объектов из датасета. Рекомендуется использовать функцию `sklearn.model_selection.train_test_split`."
   ]
  },
  {
   "cell_type": "code",
   "execution_count": 217,
   "id": "902cf4b1",
   "metadata": {},
   "outputs": [
    {
     "data": {
      "text/plain": [
       "72397     ['honors', 'section', 'made', 'minor', 'edits'...\n",
       "144228    ['believe', 'discussion', 'curiosity', 'part',...\n",
       "139432    ['contested', 'deletion', 'article', 'speedily...\n",
       "72634     ['gears', 'friends', 'still', 'sent', 'adherei...\n",
       "121222    ['every', 'source', 'including', 'original', '...\n",
       "                                ...                        \n",
       "105560    ['commercials', 'erin', 'esurance', 'totally',...\n",
       "52113                  ['oppose', 'nomination', 'withdraw']\n",
       "105651    ['appreciate', 'leaving', 'welcome', 'message'...\n",
       "21855     ['sure', 'sony', 'youth', 'great', 'irish', 'f...\n",
       "69250     ['silly', 'simply', 'foreign', 'translations',...\n",
       "Name: comment_text, Length: 111699, dtype: object"
      ]
     },
     "execution_count": 217,
     "metadata": {},
     "output_type": "execute_result"
    }
   ],
   "source": [
    "X = data[\"comment_text\"]\n",
    "y = data['is_toxic'].replace(0,-1)\n",
    "X_train, X_val, y_train, y_val = train_test_split(X, y, test_size = 0.3)\n",
    "X_train.apply(lambda x: ''.join(x))"
   ]
  },
  {
   "cell_type": "markdown",
   "id": "ec592665",
   "metadata": {},
   "source": [
    "### 4. Tf-idf\n",
    "Преобразуйте текст в разреженную матрицу `scipy.sparse.csr_matrix`, где значение $x$ в позиции $(i, j)$ сответствует tf-idf характеристке $j$-го слова в $i$-ом документе. Рекомендуется использовать конструктор `sklearn.feature_extraction.text.TfidfVectorizer`. Добавьте в данные единичный столбец на **нулевой** позиции.\n",
    "\n",
    "**Замечание 1.** У `TfidfVectorizer` есть несколько методов для работы, используйте `fit_transform` и `fit` для обучающей выборки, используйте `transform` для тестовой.\n",
    "\n",
    "\n",
    "**Замечание 2.** Используйте параметр `min_df`, чтобы уменьшить размерность данных и ускорить проведение экспериментов. Рекомендуется использовать `min_df` не меньше $5$.\n",
    "\n",
    "\n",
    "**Замечание 3.** Для добавления единичного столбца, можно воспользоваться следующей инструкцией:\n",
    "```python\n",
    "from scipy.sparse import hstack, csr_matrix\n",
    "X = csr_matrix(hstack([csr_matrix(np.ones((X.shape[0], 1))), X]))\n",
    "```"
   ]
  },
  {
   "cell_type": "code",
   "execution_count": 218,
   "id": "4bfc5b2c",
   "metadata": {},
   "outputs": [],
   "source": [
    "vectorizer = TfidfVectorizer(min_df=20)\n",
    "\n",
    "X_train = vectorizer.fit_transform(X_train.apply(lambda x: ''.join(x)))\n",
    "X_val = vectorizer.transform(X_val.apply(lambda x: ''.join(x)))"
   ]
  },
  {
   "cell_type": "code",
   "execution_count": 219,
   "id": "e2e6e63b",
   "metadata": {},
   "outputs": [],
   "source": [
    "X_val = csr_matrix(hstack([csr_matrix(np.ones((X_val.shape[0], 1))), X_val]))\n",
    "X_train = csr_matrix(hstack([csr_matrix(np.ones((X_train.shape[0], 1))), X_train]))"
   ]
  },
  {
   "cell_type": "code",
   "execution_count": 215,
   "id": "c1e5e375",
   "metadata": {},
   "outputs": [],
   "source": [
    "%reload_ext autoreload"
   ]
  },
  {
   "cell_type": "markdown",
   "id": "8b97cae5",
   "metadata": {},
   "source": [
    "#### Ответьте на следующие вопросы\n",
    "\n",
    "1. Поясните, почему мы хотим хранить данные в разреженных матрицах CSR формата? Почему для данной задачи этот формат подходит лучше DOK формата (словарь, где ключ это пара (строка, столбец), а значение это соответствующий строке и столбцу элемент матрицы)?\n",
    "\n",
    "    Потому что CSR формат куда лучше подходит для разреженных матриц, а это как раз наш случай. Ведь слов в данных много больше слов в одной строке."
   ]
  },
  {
   "cell_type": "markdown",
   "id": "e1ed55cb",
   "metadata": {},
   "source": [
    "## Эксперименты (13 баллов)"
   ]
  },
  {
   "cell_type": "markdown",
   "id": "721ec2f9",
   "metadata": {},
   "source": [
    "### 1. Исследование параметров градиентного спуска (3 балла)\n",
    "\n",
    "В спецификации предлагается использовать следующую формулу для выбора темпа обучения $\\eta_k$:\n",
    "\n",
    "\n",
    "$$\\eta_k  = \\frac{\\alpha}{k^{\\beta}}, \\quad \\text{где $\\alpha$, $\\beta$ - заданные константы}, \\; \\text{$k$ - номер итерации}$$\n",
    "\n",
    "\n",
    "Исследуйте поведение градиентного спуска для задачи логистической регрессии в зависимости от следующих параметров:\n",
    "\n",
    "- параметр темпа обучения `step_alpha`\n",
    "- параметр темпа обучения `step_beta`\n",
    "\n",
    "Исследование поведения подразумевает анализ следующих зависимостей на обучающей и валидационной\n",
    "выборках:\n",
    "\n",
    "- зависимость значения функции потерь от реального времени работы метода\n",
    "- зависимость значения функции потерь от эпохи метода\n",
    "- значение метрики качества после обучения метода\n",
    "\n",
    "В качестве метрики качества здесь и далее предлагается использовать сбалансированную точность (balanced accuracy), реализацию, совместимую с множеством меток $\\{−1, 1\\}$, можно найти в модуле `utils`.\n",
    "\n",
    "\n",
    "**Замечание.** Для оценки времени долго работающих функций можно пользоваться либо функциями из модуля `time`, либо magic-командой `%time`, которая запускает код лишь один раз.\n"
   ]
  },
  {
   "cell_type": "code",
   "execution_count": 182,
   "id": "07559859",
   "metadata": {},
   "outputs": [],
   "source": [
    "alpha_list = [0.5, 1, 2]\n",
    "beta_list = [0.5, 1, 2]\n",
    "\n",
    "full_dict = {i: [] for i in ['Q_loss_train','Q_loss_val',  \n",
    "                             'acc_train','acc_val',\n",
    "                             'full_time','alpha/beta']}\n",
    "\n",
    "for alpha in alpha_list:\n",
    "    for beta in beta_list:\n",
    "        clf = LinearModel(loss_function=BinaryLogisticLoss(l2_coef=0.1), step_alpha=alpha, step_beta=beta)\n",
    "        history = clf.fit(X_train, y_train, trace=True, X_val=X_val, y_val=y_val)\n",
    "        threshold = clf.get_optimal_threshold(X_val, y_val)\n",
    "        y_pred_train = clf.predict(X_train, threshold = threshold)\n",
    "        y_pred_val = clf.predict(X_val, threshold = threshold)\n",
    "\n",
    "        full_dict['alpha/beta'].append((alpha, beta))\n",
    "        full_dict['Q_loss_train'].append(history['func'])\n",
    "        full_dict['Q_loss_val'].append(history['func_val'])\n",
    "        full_dict['full_time'].append(np.sum(history['time']))\n",
    "        full_dict['acc_train'].append(compute_balanced_accuracy(y_train, y_pred_train))\n",
    "        full_dict['acc_val'].append(compute_balanced_accuracy(y_val, y_pred_val))\n",
    "        \n"
   ]
  },
  {
   "cell_type": "markdown",
   "id": "cfbd7884",
   "metadata": {},
   "source": [
    "#### Приведите график / таблицу с результатами ваших экспериментов"
   ]
  },
  {
   "cell_type": "markdown",
   "id": "dcf981ac",
   "metadata": {},
   "source": [
    "Зависимость функции лосса от времени"
   ]
  },
  {
   "cell_type": "code",
   "execution_count": 203,
   "id": "c438d075",
   "metadata": {},
   "outputs": [
    {
     "name": "stdout",
     "output_type": "stream",
     "text": [
      "+--------------+----------+--------------+------------+\n",
      "| alpha/beta   |     time |   loss_train |   loss_val |\n",
      "+==============+==========+==============+============+\n",
      "| (0.5, 0.5)   | 27.2652  |     0.330249 |   0.32975  |\n",
      "+--------------+----------+--------------+------------+\n",
      "| (0.5, 1)     | 27.6556  |    86.4392   |  86.4376   |\n",
      "+--------------+----------+--------------+------------+\n",
      "| (0.5, 2)     | 18.5318  |   284.798    | 284.794    |\n",
      "+--------------+----------+--------------+------------+\n",
      "| (1, 0.5)     | 25.9402  |     0.328677 |   0.328183 |\n",
      "+--------------+----------+--------------+------------+\n",
      "| (1, 1)       | 27.7137  |    18.604    |  18.603    |\n",
      "+--------------+----------+--------------+------------+\n",
      "| (1, 2)       |  8.61061 |   196.95     | 196.948    |\n",
      "+--------------+----------+--------------+------------+\n",
      "| (2, 0.5)     |  3.42133 |     0.328676 |   0.328183 |\n",
      "+--------------+----------+--------------+------------+\n",
      "| (2, 1)       |  9.16517 |     1.02683  |   1.02632  |\n",
      "+--------------+----------+--------------+------------+\n",
      "| (2, 2)       |  9.13619 |    83.8229   |  83.8217   |\n",
      "+--------------+----------+--------------+------------+\n"
     ]
    }
   ],
   "source": [
    "mydata = [[full_dict['alpha/beta'][i],full_dict['full_time'][i], \n",
    "           min(full_dict['Q_loss_train'][i]),min(full_dict['Q_loss_val'][i])] for i in range(9)]\n",
    "\n",
    "# create header\n",
    "head = [\"alpha/beta\",\"time\", \"loss_train\", \"loss_val\"]\n",
    "  \n",
    "# display table\n",
    "print(tabulate(mydata, headers=head, tablefmt=\"grid\"))\n",
    "\n"
   ]
  },
  {
   "cell_type": "markdown",
   "id": "70d82296",
   "metadata": {},
   "source": [
    "Зависимость функции лосса от эпохи\n",
    "(Видимо, у меня индусские корни)"
   ]
  },
  {
   "cell_type": "code",
   "execution_count": 242,
   "id": "cdd7cf18",
   "metadata": {},
   "outputs": [
    {
     "data": {
      "text/plain": [
       "Text(0.5, 1.0, 'alpha=2, beta= 0.5/1/2')"
      ]
     },
     "execution_count": 242,
     "metadata": {},
     "output_type": "execute_result"
    },
    {
     "data": {
      "image/png": "[encoded data removed]",
      "text/plain": [
       "<Figure size 1440x1440 with 3 Axes>"
      ]
     },
     "metadata": {
      "needs_background": "light"
     },
     "output_type": "display_data"
    }
   ],
   "source": [
    "fig, axs = plt.subplots(3)\n",
    "x_list = np.arange(len(full_dict['Q_loss_train'][0]))\n",
    "axs[0].plot(x_list, full_dict['Q_loss_train'][0])\n",
    "axs[0].plot(x_list, full_dict['Q_loss_val'][0])\n",
    "x_list = np.arange(len(full_dict['Q_loss_train'][1]))\n",
    "axs[0].plot(x_list, full_dict['Q_loss_train'][1])\n",
    "axs[0].plot(x_list, full_dict['Q_loss_val'][1])\n",
    "x_list = np.arange(len(full_dict['Q_loss_train'][2]))\n",
    "axs[0].plot(x_list, full_dict['Q_loss_train'][2])\n",
    "axs[0].plot(x_list, full_dict['Q_loss_val'][2])\n",
    "axs[0].set_xscale('log')\n",
    "axs[0].set_xlabel(\"Время\")\n",
    "axs[0].set_ylabel(\"Значение функции потерь\")\n",
    "axs[0].set_title('alpha=0.5, beta=0.5/1/2')\n",
    "axs[0].legend(['train, beta=0.5', 'val, beta=0.5', 'train, beta=1', 'val, beta=1', 'train, beta=2', 'val, beta=2'])\n",
    "\n",
    "x_list = np.arange(len(full_dict['Q_loss_train'][3]))\n",
    "axs[1].plot(x_list, full_dict['Q_loss_train'][3])\n",
    "axs[1].plot(x_list, full_dict['Q_loss_val'][3])\n",
    "x_list = np.arange(len(full_dict['Q_loss_train'][4]))\n",
    "axs[1].plot(x_list, full_dict['Q_loss_train'][4])\n",
    "axs[1].plot(x_list, full_dict['Q_loss_val'][4])\n",
    "x_list = np.arange(len(full_dict['Q_loss_train'][5]))\n",
    "axs[1].plot(x_list, full_dict['Q_loss_train'][5])\n",
    "axs[1].plot(x_list, full_dict['Q_loss_val'][5])\n",
    "axs[1].set_yscale('log')\n",
    "axs[1].set_xlabel(\"Время\")\n",
    "axs[1].set_ylabel(\"Значение функции потерь\")\n",
    "axs[1].set_title('alpha=1, beta= 0.5/1/2')\n",
    "\n",
    "x_list = np.arange(len(full_dict['Q_loss_train'][6]))\n",
    "axs[2].plot(x_list, full_dict['Q_loss_train'][6])\n",
    "axs[2].plot(x_list, full_dict['Q_loss_val'][6])\n",
    "x_list = np.arange(len(full_dict['Q_loss_train'][7]))\n",
    "axs[2].plot(x_list, full_dict['Q_loss_train'][7])\n",
    "axs[2].plot(x_list, full_dict['Q_loss_val'][7])\n",
    "x_list = np.arange(len(full_dict['Q_loss_train'][8]))\n",
    "axs[2].plot(x_list, full_dict['Q_loss_train'][8])\n",
    "axs[2].plot(x_list, full_dict['Q_loss_val'][8])\n",
    "axs[2].set_xscale('log')\n",
    "axs[2].set_xlabel(\"Время\")\n",
    "axs[2].set_ylabel(\"Значение функции потерь\")\n",
    "axs[2].set_title('alpha=2, beta= 0.5/1/2')"
   ]
  },
  {
   "cell_type": "code",
   "execution_count": null,
   "id": "791c64ac",
   "metadata": {},
   "outputs": [],
   "source": []
  },
  {
   "cell_type": "code",
   "execution_count": null,
   "id": "3d5448ad",
   "metadata": {},
   "outputs": [],
   "source": []
  },
  {
   "cell_type": "markdown",
   "id": "49d4611a",
   "metadata": {},
   "source": [
    "Зависимость метрики качества"
   ]
  },
  {
   "cell_type": "code",
   "execution_count": 202,
   "id": "f5dd4f9d",
   "metadata": {},
   "outputs": [
    {
     "name": "stdout",
     "output_type": "stream",
     "text": [
      "+--------------+-------------+-----------+\n",
      "| alpha/beta   |   acc_train |   acc_val |\n",
      "+==============+=============+===========+\n",
      "| (0.5, 0.5)   |    0.755023 |  0.756603 |\n",
      "+--------------+-------------+-----------+\n",
      "| (0.5, 1)     |    0.500045 |  0.50007  |\n",
      "+--------------+-------------+-----------+\n",
      "| (0.5, 2)     |    0.500046 |  0.500214 |\n",
      "+--------------+-------------+-----------+\n",
      "| (1, 0.5)     |    0.861955 |  0.860825 |\n",
      "+--------------+-------------+-----------+\n",
      "| (1, 1)       |    0.499949 |  0.500109 |\n",
      "+--------------+-------------+-----------+\n",
      "| (1, 2)       |    0.500061 |  0.500065 |\n",
      "+--------------+-------------+-----------+\n",
      "| (2, 0.5)     |    0.86123  |  0.860205 |\n",
      "+--------------+-------------+-----------+\n",
      "| (2, 1)       |    0.499619 |  0.500275 |\n",
      "+--------------+-------------+-----------+\n",
      "| (2, 2)       |    0.498397 |  0.500131 |\n",
      "+--------------+-------------+-----------+\n"
     ]
    },
    {
     "data": {
      "text/plain": [
       "[[(0.5, 0.5), 0.7550227699229405, 0.7566027989509292],\n",
       " [(0.5, 1), 0.5000448502003308, 0.5000697479773086],\n",
       " [(0.5, 2), 0.5000455561574364, 0.5002139033647036],\n",
       " [(1, 0.5), 0.8619549775461355, 0.8608246086172143],\n",
       " [(1, 1), 0.49994916144178747, 0.5001092813987407],\n",
       " [(1, 2), 0.5000605062242134, 0.5000645240547283],\n",
       " [(2, 0.5), 0.8612300990363106, 0.8602054876828324],\n",
       " [(2, 1), 0.4996194044929969, 0.5002749448043784],\n",
       " [(2, 2), 0.4983974528155591, 0.5001313060686672]]"
      ]
     },
     "execution_count": 202,
     "metadata": {},
     "output_type": "execute_result"
    }
   ],
   "source": [
    "\n",
    "\n",
    "mydata = [[full_dict['alpha/beta'][i],full_dict['acc_train'][i],full_dict['acc_val'][i]] for i in range(9)]\n",
    "# create header\n",
    "head = [\"alpha/beta\", \"acc_train\", \"acc_val\"]\n",
    "  \n",
    "# display table\n",
    "print(tabulate(mydata, headers=head, tablefmt=\"grid\"))\n"
   ]
  },
  {
   "cell_type": "markdown",
   "id": "39dec293",
   "metadata": {},
   "source": [
    "#### Ответьте на следующие вопросы\n",
    "\n",
    "1. По результатам экспериментов, какие параметры `step_alpha` и `step_beta` вы считаете наиболее оптимальными? Если пар оптимальных параметров получилось несколько, какую пару вы выберете для дальнейших экпериментов и почему?\n",
    "\n",
    "    Из первой таблицы видно, что с ростом беты ухудшается лосс, значит оптимальным параметром стоит выбрать минимальную бету (0.5), из последней заметно, что выбирать альфу можно, какую угодно, но не минимальную. Выберу альфу = 2, тк у неё быстрее время работы.\n",
    "\n",
    "2. Какие зависимости между параметрами `step_alpha`/`step_beta` и временем работы алгоритма/кол-ва эпох вы наблюдаете? Опишите свои наблюдения.\n",
    "    Занятно, что значения функции регуляризации на валидации и обучении совпадают (почему-то даже на log шкале). По графикам видно, что чем больше альфа и чем меньше бета, тем быстрее алгоритм спускается к нужному значению.\n",
    "    \n",
    "    \n",
    "    \n",
    "3. Поясните, в чём преимущество использования balanced accuracy для этой задачи по сравнению с обычной accuracy?\n",
    "\n",
    "    Сбалансированная точность используется для неравного соотношения наборов значений целевых меток, у нас соотношение токсичных комментариев к обычным довольно маленькое, поэтому точность, используемая для соотношения 1 к 1 покажет низкие результаты."
   ]
  },
  {
   "cell_type": "markdown",
   "id": "65f4381d",
   "metadata": {},
   "source": [
    "### 2. Исследование параметров стохастического градиентного спуска (3 балла)\n",
    "Исследуйте поведение стохастического градиентного спуска для задачи логистической регрессии в зависимости от следующих параметров:\n",
    "\n",
    "- параметр темпа обучения `step_alpha`\n",
    "- параметр темпа обучения `step_beta`\n",
    "- размер подвыборки `batch_size`\n",
    "\n",
    "**Замечание.** Обратите внимание, что в стохастическом случае необходимо строить зависимости метрик качества от эпохи метода. За одну эпоху через оптимизацию модели проходит $N$ объектов, где $N$ — длина обучающей выборки. Если вы реализуете семплирование согласно спецификации задания, то за одну эпоху каждый объект пройдёт через оптимизацию ровно один раз. В полном градиентном спуске одна эпоха метода соответствует одной итерации обучения."
   ]
  },
  {
   "cell_type": "markdown",
   "id": "a1584454",
   "metadata": {},
   "source": [
    "Для лучшей пары параметров подберём лучший размер батча, а затем на нём снова подберём параметры. (Иначе долго и слишком много информации для обработки)."
   ]
  },
  {
   "cell_type": "code",
   "execution_count": 227,
   "id": "bcd16e5e",
   "metadata": {},
   "outputs": [
    {
     "data": {
      "text/plain": [
       "159571"
      ]
     },
     "execution_count": 227,
     "metadata": {},
     "output_type": "execute_result"
    }
   ],
   "source": [
    "N = int(len(y))\n",
    "N"
   ]
  },
  {
   "cell_type": "code",
   "execution_count": 229,
   "id": "1e617bd4",
   "metadata": {},
   "outputs": [],
   "source": [
    "alpha = 2\n",
    "beta = 0.5"
   ]
  },
  {
   "cell_type": "code",
   "execution_count": 244,
   "id": "5cc04e6a",
   "metadata": {},
   "outputs": [],
   "source": [
    "batch_list = [int(N/10), int(N/20), int(N/50), int(N/100)]\n",
    "\n",
    "full_dict_b = {i: [] for i in ['Q_loss_train','Q_loss_val',  \n",
    "                             'acc_train','acc_val',\n",
    "                             'full_time','batch_size']}\n",
    "\n",
    "for batch in batch_list:\n",
    "    clf = LinearModel(loss_function=BinaryLogisticLoss(l2_coef=0.1), step_alpha=alpha, step_beta=beta, batch_size=batch)\n",
    "    history = clf.fit(X_train, y_train, trace=True)\n",
    "    threshold = clf.get_optimal_threshold(X_val, y_val)\n",
    "    y_pred_train = clf.predict(X_train, threshold = threshold)\n",
    "    y_pred_val = clf.predict(X_val, threshold = threshold)\n",
    "\n",
    "    full_dict_b['batch_size'].append(batch)\n",
    "    full_dict_b['Q_loss_train'].append(history['func'])\n",
    "    full_dict_b['Q_loss_val'].append(history['func_val'])\n",
    "    full_dict_b['full_time'].append(np.sum(history['time']))\n",
    "    full_dict_b['acc_train'].append(compute_balanced_accuracy(y_train, y_pred_train))\n",
    "    full_dict_b['acc_val'].append(compute_balanced_accuracy(y_val, y_pred_val))\n",
    "\n"
   ]
  },
  {
   "cell_type": "markdown",
   "id": "7c0464c1",
   "metadata": {},
   "source": [
    "#### Приведите график / таблицу с результатами ваших экспериментов"
   ]
  },
  {
   "cell_type": "code",
   "execution_count": 245,
   "id": "0390482e",
   "metadata": {},
   "outputs": [
    {
     "name": "stdout",
     "output_type": "stream",
     "text": [
      "+--------------+-------------+-----------+-------------+\n",
      "|   batch_size |   acc_train |   acc_val |   full_time |\n",
      "+==============+=============+===========+=============+\n",
      "|        15957 |    0.646777 |  0.647574 |    32.1612  |\n",
      "+--------------+-------------+-----------+-------------+\n",
      "|         7978 |    0.866729 |  0.857558 |     5.87029 |\n",
      "+--------------+-------------+-----------+-------------+\n",
      "|         3191 |    0.863605 |  0.856208 |     2.46583 |\n",
      "+--------------+-------------+-----------+-------------+\n",
      "|         1595 |    0.863555 |  0.856096 |     2.7182  |\n",
      "+--------------+-------------+-----------+-------------+\n"
     ]
    }
   ],
   "source": [
    "mydata = [[full_dict_b['batch_size'][i],full_dict_b['acc_train'][i],full_dict_b['acc_val'][i],full_dict_b['full_time'][i]] for i in range(4)]\n",
    "# create header\n",
    "head = [\"batch_size\", \"acc_train\", \"acc_val\", \"full_time\"]\n",
    "  \n",
    "# display table\n",
    "print(tabulate(mydata, headers=head, tablefmt=\"grid\"))\n"
   ]
  },
  {
   "cell_type": "code",
   "execution_count": 251,
   "id": "828492e3",
   "metadata": {},
   "outputs": [],
   "source": [
    "alpha_list = [0.5, 1, 2]\n",
    "beta_list = [0.5, 1, 2]\n",
    "batch_size = int(N/20)\n",
    "full_dict_b1 = {i: [] for i in ['Q_loss_train','Q_loss_val',  \n",
    "                             'acc_train','acc_val',\n",
    "                             'full_time','alpha/beta']}\n",
    "\n",
    "for alpha in alpha_list:\n",
    "    for beta in beta_list:\n",
    "        clf = LinearModel(loss_function=BinaryLogisticLoss(l2_coef=0.1), step_alpha=alpha, step_beta=beta, batch_size=batch_size)\n",
    "        history = clf.fit(X_train, y_train, trace=True, X_val=X_val, y_val=y_val)\n",
    "        threshold = clf.get_optimal_threshold(X_val, y_val)\n",
    "        y_pred_train = clf.predict(X_train, threshold = threshold)\n",
    "        y_pred_val = clf.predict(X_val, threshold = threshold)\n",
    "        full_dict_b1['Q_loss_train'].append(history['func'])\n",
    "        full_dict_b1['Q_loss_val'].append(history['func_val'])\n",
    "        full_dict_b1['full_time'].append(np.sum(history['time']))\n",
    "        full_dict_b1['alpha/beta'].append((alpha, beta))\n",
    "        full_dict_b1['acc_train'].append(compute_balanced_accuracy(y_train, y_pred_train))\n",
    "        full_dict_b1['acc_val'].append(compute_balanced_accuracy(y_val, y_pred_val))\n",
    "        \n"
   ]
  },
  {
   "cell_type": "code",
   "execution_count": 252,
   "id": "f0a1d662",
   "metadata": {},
   "outputs": [
    {
     "name": "stdout",
     "output_type": "stream",
     "text": [
      "+--------------+-------------+-------------+-----------+\n",
      "| alpha/beta   |   full_time |   acc_train |   acc_val |\n",
      "+==============+=============+=============+===========+\n",
      "| (0.5, 0.5)   |    26.4994  |    0.863535 |  0.856196 |\n",
      "+--------------+-------------+-------------+-----------+\n",
      "| (0.5, 1)     |    70.4686  |    0.865264 |  0.857908 |\n",
      "+--------------+-------------+-------------+-----------+\n",
      "| (0.5, 2)     |    98.6531  |    0.499995 |  0.500166 |\n",
      "+--------------+-------------+-------------+-----------+\n",
      "| (1, 0.5)     |   107.236   |    0.863552 |  0.856153 |\n",
      "+--------------+-------------+-------------+-----------+\n",
      "| (1, 1)       |     8.71541 |    0.863761 |  0.856237 |\n",
      "+--------------+-------------+-------------+-----------+\n",
      "| (1, 2)       |    38.9464  |    0.564939 |  0.572334 |\n",
      "+--------------+-------------+-------------+-----------+\n",
      "| (2, 0.5)     |   109.235   |    0.86352  |  0.856185 |\n",
      "+--------------+-------------+-------------+-----------+\n",
      "| (2, 1)       |     6.68105 |    0.863479 |  0.856211 |\n",
      "+--------------+-------------+-------------+-----------+\n",
      "| (2, 2)       |     5.65049 |    0.865602 |  0.857526 |\n",
      "+--------------+-------------+-------------+-----------+\n"
     ]
    }
   ],
   "source": [
    "mydata = [[full_dict_b1['alpha/beta'][i],full_dict_b1['full_time'][i],full_dict_b1['acc_val'][i], full_dict_b1['Q_loss_val'][i]] for i in range(9)]\n",
    "# create header\n",
    "head = [\"alpha/beta\",\"full_time\", \"acc_train\", \"acc_val\"]\n",
    "  \n",
    "# display table\n",
    "print(tabulate(mydata, headers=head, tablefmt=\"grid\"))\n"
   ]
  },
  {
   "cell_type": "markdown",
   "id": "dc3042c2",
   "metadata": {},
   "source": [
    "#### Ответьте на следующие вопросы\n",
    "\n",
    "1. По результатам экспериментов, какие параметры `step_alpha`, `step_beta` и `batch_size` вы считаете наиболее оптимальными? Если троек оптимальных параметров получилось несколько, какую пару вы выберете для дальнейших экпериментов и почему?\n",
    "\n",
    "    \n",
    "    Лучшая точность наблюдается при размере батча N/20. Далее подберём гиперпараметры для него. Выберем пару (2, 2) по лучшей точности + времени схождения.\n",
    "    \n",
    "\n",
    "2. Какие зависимости между параметрами `step_alpha`/`step_beta`/`batch_size` и временем работы алгоритма/кол-ва эпох вы наблюдаете? Опишите свои наблюдения.\n",
    "\n",
    "    Время работы  почти всегда уменьшалось вместе с уменьшением батча. При бета = 0.5 алгоритм очень медленно работает, такую бету я бы точно не выбрала. При остальных значениях примерно одинаково, но лучше всего в среднем алгоритм себя показывает при бета = 1. \n",
    "    Лучшее время везде - там, где alpha=beta.\n",
    "    "
   ]
  },
  {
   "cell_type": "markdown",
   "id": "8ae42963",
   "metadata": {},
   "source": [
    "### 3. Сравнение двух методов (2 балла)\n",
    "Сравните поведение двух методов между собой, и ответьте на следующие вопросы\n",
    "\n",
    "1. Какой алгоритм вы выберете для дальнейших экспериментов и почему?\n",
    "\n",
    "    Стохастический алгоритм, как в теории, так и в этом эксперименте, показал себя лучше. Из-за \"гибкости\" шага алгоритм стохастического спуска должен быстрее сходиться.\n",
    "    \n",
    "\n",
    "2. Есть ли разница между парами оптимальных параметров `step_alpha` и `step_beta` в двух алгоритмах? Объясните разницу/отсутствие разницы в результатах.\n",
    "\n",
    "    Разница получилась значительная. Во втором случае зависимость куда сложнее проследить, не зря алгоритм прозвали случайным."
   ]
  },
  {
   "cell_type": "markdown",
   "id": "82973cd6",
   "metadata": {},
   "source": [
    "### 4. Регуляризация (2 балла)\n",
    "Подберите по отложенной выборке коэффициент $l2$-регуляризации модели. \n",
    "\n",
    "Приведите график с результатами ваших экспериментов. Обоснуйте свой выбор.\n"
   ]
  },
  {
   "cell_type": "code",
   "execution_count": 253,
   "id": "e0eff3ab",
   "metadata": {},
   "outputs": [],
   "source": [
    "l2_list = [0.05, 0.1, 0.5, 1, 2]\n",
    "alpha = 2\n",
    "beta = 2\n",
    "batch_size = int(N/20)\n",
    "full_dict_l = {i: [] for i in ['Q_loss_train','Q_loss_val',  \n",
    "                             'acc_train','acc_val',\n",
    "                             'full_time','l2_coef']}\n",
    "\n",
    "for l2 in l2_list:\n",
    "    clf = LinearModel(loss_function=BinaryLogisticLoss(l2_coef=l2), step_alpha=alpha, step_beta=beta, batch_size=batch_size)\n",
    "    history = clf.fit(X_val, y_val)\n",
    "    threshold = clf.get_optimal_threshold(X_val, y_val)\n",
    "    y_pred_val = clf.predict(X_val, threshold = threshold)\n",
    "\n",
    "    full_dict_l['l2_coef'].append(l2)\n",
    "    full_dict_l['acc_val'].append(compute_balanced_accuracy(y_val, y_pred_val))\n",
    "\n"
   ]
  },
  {
   "cell_type": "code",
   "execution_count": 255,
   "id": "403b4d52",
   "metadata": {},
   "outputs": [
    {
     "data": {
      "text/plain": [
       "[<matplotlib.lines.Line2D at 0x2915c169248>]"
      ]
     },
     "execution_count": 255,
     "metadata": {},
     "output_type": "execute_result"
    },
    {
     "data": {
      "image/png": "[encoded data removed]",
      "text/plain": [
       "<Figure size 720x720 with 1 Axes>"
      ]
     },
     "metadata": {
      "needs_background": "light"
     },
     "output_type": "display_data"
    }
   ],
   "source": [
    "plt.figure(figsize=(10,10))\n",
    "plt.plot(full_dict_l['l2_coef'], full_dict_l['acc_val'], marker='x')"
   ]
  },
  {
   "cell_type": "markdown",
   "id": "0598dc2c",
   "metadata": {},
   "source": [
    "Точность выше всего для 0.5. Выберу его."
   ]
  },
  {
   "cell_type": "markdown",
   "id": "75512189",
   "metadata": {},
   "source": [
    "### 5. Измерение качества и интерпретация результатов (3 балла)\n",
    "Выберите лучший алгоритм для тестовой выборки. Обратите внимание, что необходимо использовать порог бинаризации, выбранный на отложенной выборке."
   ]
  },
  {
   "cell_type": "markdown",
   "id": "e136a6f8",
   "metadata": {},
   "source": [
    "Загрузим выборку, обработанную аналогично обучающей:"
   ]
  },
  {
   "cell_type": "code",
   "execution_count": 278,
   "id": "e41da6ee",
   "metadata": {},
   "outputs": [],
   "source": [
    "data1 = pd.read_csv('test_sample.csv')\n",
    "data = pd.read_csv('train_sample.csv')\n",
    "\n",
    "X_test = data1[\"comment_text\"]\n",
    "y_test = data1['is_toxic'].replace(0,-1)\n",
    "X = data[\"comment_text\"]\n",
    "y = data['is_toxic'].replace(0,-1)\n",
    "X_train, X_val, y_train, y_val = train_test_split(X, y, test_size = 0.3)"
   ]
  },
  {
   "cell_type": "code",
   "execution_count": 279,
   "id": "c5ffad30",
   "metadata": {},
   "outputs": [],
   "source": [
    "vectorizer = TfidfVectorizer(min_df=20)\n",
    "\n",
    "X_train = vectorizer.fit_transform(X_train.apply(lambda x: ''.join(x)))\n",
    "X_test = vectorizer.transform(X_test.apply(lambda x: ''.join(x)))\n",
    "X_test = csr_matrix(hstack([csr_matrix(np.ones((X_test.shape[0], 1))), X_test]))\n",
    "X_train = csr_matrix(hstack([csr_matrix(np.ones((X_train.shape[0], 1))), X_train]))\n",
    "\n",
    "X_val = vectorizer.transform(X_val.apply(lambda x: ''.join(x)))\n",
    "X_val = csr_matrix(hstack([csr_matrix(np.ones((X_val.shape[0], 1))), X_val]))"
   ]
  },
  {
   "cell_type": "code",
   "execution_count": 281,
   "id": "9f7bca1f",
   "metadata": {},
   "outputs": [
    {
     "name": "stdout",
     "output_type": "stream",
     "text": [
      "val acc: 0.8477768982230279 test acc: 0.8383732165059941\n"
     ]
    }
   ],
   "source": [
    "l2_coef = 0.5\n",
    "alpha = 2\n",
    "beta = 2\n",
    "batch_size = int(N/20)\n",
    "\n",
    "clf = LinearModel(loss_function = BinaryLogisticLoss(l2_coef=l2_coef), batch_size = batch_size, step_alpha = alpha, step_beta = beta)\n",
    "clf.fit(X_train, y_train)\n",
    "threshold = clf.get_optimal_threshold(X_val, y_val)\n",
    "\n",
    "y_pred_val = clf.predict(X_val, threshold = threshold)\n",
    "y_pred_test = clf.predict(X_test, threshold = threshold)\n",
    "\n",
    "print(\"val acc:\", compute_balanced_accuracy(y_val, y_pred_val), \"test acc:\", compute_balanced_accuracy(y_test, y_pred_test))"
   ]
  },
  {
   "cell_type": "markdown",
   "id": "be16f0a3",
   "metadata": {},
   "source": [
    "#### Ответьте на следующие вопросы\n",
    "\n",
    "1. Примените лучший алгоритм к тестовой выборке и посмотрите на метрику качества. Сравните ее с метрикой на валидации. Опишите ваши наблюдения.\n",
    "\n",
    "    Неплохо, но можно было лучше."
   ]
  },
  {
   "cell_type": "markdown",
   "id": "694afbde",
   "metadata": {},
   "source": [
    "2. Проанализируйте ошибки алгоритма. Проанализируйте и укажите общие черты объектов, на которых были допущены ошибки. Наблюдения опишите.\n",
    "\n",
    "    Алгоритм, видимо, выбрал за токсичные слова какие-то очень плохие слова. А вот относительно нормальные слова \"мать\", \"евреи\" и \"раса\" у него отторжения не вызывают.\n"
   ]
  },
  {
   "cell_type": "code",
   "execution_count": 289,
   "id": "1b60b4bf",
   "metadata": {},
   "outputs": [
    {
     "data": {
      "text/plain": [
       "(1                   ['dear', 'god', 'site', 'horrible']\n",
       " 9     ['please', 'stop', 'continue', 'vandalize', 'w...\n",
       " 12    ['jews', 'race', 'get', 'mother', 'mention', '...\n",
       " 17    ['balance', 'page', 'one', 'sentence', 'basic'...\n",
       " 27    ['burn', 'hell', 'revoke', 'talk', 'page', 'ac...\n",
       " Name: comment_text, dtype: object,\n",
       " 1    -1\n",
       " 9    -1\n",
       " 12   -1\n",
       " 17   -1\n",
       " 27   -1\n",
       " Name: is_toxic, dtype: int64)"
      ]
     },
     "execution_count": 289,
     "metadata": {},
     "output_type": "execute_result"
    }
   ],
   "source": [
    "X_test = data1[\"comment_text\"]\n",
    "X_test[(y_test != y_pred_test)][0:5], y_test[(y_test != y_pred_test)][0:5]"
   ]
  },
  {
   "cell_type": "code",
   "execution_count": null,
   "id": "8c7237b0",
   "metadata": {},
   "outputs": [],
   "source": [
    "## your code here ##"
   ]
  },
  {
   "cell_type": "markdown",
   "id": "fc51cb7a",
   "metadata": {},
   "source": [
    "3. Проинтерпретируйте линейные коэффициенты признаков. Выберите коэффициенты с набиольшим значением и коэффициенты с наименьшим значением. Проанализируйте, каким словам они соответствуют. Согласуются ли ваши наблюдения с вашими ожиданиями от модели?\n",
    "\n",
    "    *ваш ответ*"
   ]
  },
  {
   "cell_type": "code",
   "execution_count": null,
   "id": "2b7afd80",
   "metadata": {},
   "outputs": [],
   "source": [
    "## your code here ##"
   ]
  },
  {
   "cell_type": "markdown",
   "id": "d384fd87",
   "metadata": {},
   "source": [
    "## Бонусная часть\n",
    "В бонусной части предлагается решить более сложную задачу — нужно не просто определить токсичное сообщение или нет, а понять тип токсичности. По сути вам нужно решить задачу классификации на $5$ классов: `insult`, `obscene`, `obscene_and_insult`, `no_obscene_no_insult` и `not_toxic`. Все новые целевые переменные записаны в соответствующих столбцах, `not_toxic` можно получить инвертировав столбец `is_toxic`."
   ]
  },
  {
   "cell_type": "markdown",
   "id": "f824375f",
   "metadata": {},
   "source": [
    "### 1. Теоретическая часть (1 балл)\n",
    "Выведите формулу градиента функции потерь для задачи мультиномиальной регресии. Запишите вывод градиента в отчёт:\n",
    "$$p(y|x) = \\frac{\\exp(\\langle w_y, x \\rangle)}{\\sum_{u \\in Y}\\exp(\\langle w_u, x \\rangle)}, \\quad Y = \\{1, \\ldots, K\\}$$\n",
    "\n",
    "\n",
    "$$L(a(x), y) = -\\log p(y|x), \\quad a(x) = \\{\\langle w_y, x \\rangle\\}_{y \\in Y}, \\quad y \\in Y $$"
   ]
  },
  {
   "cell_type": "markdown",
   "id": "8d0738ee",
   "metadata": {},
   "source": [
    "### 2. Мультиномиальная регрессия (до 3 баллов)\n",
    "Реализуйте функцию потерь для задачи мультиномиальной регрессии. Обучите модель для задачи многоклассовой классификации. Используя разбиение данных на обучение и валидацию, подберите оптимальный коэффициент $l2$-регуляризации. В файле `tests_bonus.py` есть несколько тестов для самопроверки.\n",
    "\n",
    "\n",
    "**Замечание.** Обратите внимание, что вам не нужно проводить заново предобработку данных."
   ]
  },
  {
   "cell_type": "code",
   "execution_count": 33,
   "id": "844d34d5",
   "metadata": {},
   "outputs": [],
   "source": [
    "## your code here ##"
   ]
  },
  {
   "cell_type": "markdown",
   "id": "89485fbe",
   "metadata": {},
   "source": [
    "### 3. Многоклассовая классификация (до 2 баллов)\n",
    "Постройте модель многоклассовой классификации используя подход `OneVsAll`. Воспользуйтесь классом `sklearn.multiclass.OneVsRestClassifier`. Сравните качество подхода с подходом из предыдущего пункта и сделайте выводы.\n",
    "\n",
    "**Замечание.** Обратите внимание, что класс рассчитан на использование с метками ответов из множества $\\{0, 1\\}$. "
   ]
  },
  {
   "cell_type": "code",
   "execution_count": 34,
   "id": "91ba0bdb",
   "metadata": {},
   "outputs": [],
   "source": [
    "## your code here ##"
   ]
  }
 ],
 "metadata": {
  "kernelspec": {
   "display_name": "Python 3 (ipykernel)",
   "language": "python",
   "name": "python3"
  },
  "language_info": {
   "codemirror_mode": {
    "name": "ipython",
    "version": 3
   },
   "file_extension": ".py",
   "mimetype": "text/x-python",
   "name": "python",
   "nbconvert_exporter": "python",
   "pygments_lexer": "ipython3",
   "version": "3.7.9"
  }
 },
 "nbformat": 4,
 "nbformat_minor": 5
}
